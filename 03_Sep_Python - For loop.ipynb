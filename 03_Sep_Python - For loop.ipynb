{
 "cells": [
  {
   "cell_type": "markdown",
   "id": "ea212938-b208-417f-befc-aba7c6ae4c5e",
   "metadata": {},
   "source": [
    "## Basic Level:"
   ]
  },
  {
   "cell_type": "markdown",
   "id": "ce21a931-a4ae-4d79-b4b3-090d66fc86d3",
   "metadata": {},
   "source": [
    "1. Write a Python program to print the numbers from 1 to 10 using a `for` loop."
   ]
  },
  {
   "cell_type": "code",
   "execution_count": 1,
   "id": "97cb69d8-e03a-46ff-a614-06f25554a1c4",
   "metadata": {},
   "outputs": [
    {
     "name": "stdout",
     "output_type": "stream",
     "text": [
      "1\n",
      "2\n",
      "3\n",
      "4\n",
      "5\n",
      "6\n",
      "7\n",
      "8\n",
      "9\n",
      "10\n"
     ]
    }
   ],
   "source": [
    "for i in range(1,11):\n",
    "    print(i)"
   ]
  },
  {
   "cell_type": "markdown",
   "id": "b3f98551-2da5-4870-b4d8-ef8675ab2ae4",
   "metadata": {},
   "source": [
    "2. Create a program that calculates the sum of all numbers in a list using a `for` loop."
   ]
  },
  {
   "cell_type": "code",
   "execution_count": 2,
   "id": "2f0c3e2f-9da1-4f98-8319-675561df8e0e",
   "metadata": {},
   "outputs": [
    {
     "name": "stdout",
     "output_type": "stream",
     "text": [
      "The sum is 21\n"
     ]
    }
   ],
   "source": [
    "l = [1,2,3,4,5,6]\n",
    "s=0\n",
    "for i in l:\n",
    "    s=s+i\n",
    "print(f'The sum is {s}')"
   ]
  },
  {
   "cell_type": "markdown",
   "id": "50213ca9-e2a6-4871-8a71-99e46cfbc20a",
   "metadata": {},
   "source": [
    "3. Write a program to print the characters of a string in reverse order using a `for` loop."
   ]
  },
  {
   "cell_type": "code",
   "execution_count": 6,
   "id": "ea1f43ef-351c-45bc-a1fe-5122831e0209",
   "metadata": {},
   "outputs": [
    {
     "name": "stdin",
     "output_type": "stream",
     "text": [
      "Enter a string hello\n"
     ]
    },
    {
     "name": "stdout",
     "output_type": "stream",
     "text": [
      "o\n",
      "l\n",
      "l\n",
      "e\n",
      "h\n"
     ]
    }
   ],
   "source": [
    "s = input('Enter a string')\n",
    "for i in range(len(s)-1,-1,-1):\n",
    "    print(s[i])"
   ]
  },
  {
   "cell_type": "markdown",
   "id": "5b7717ad-8962-43b6-9da7-54af9c3ac4b1",
   "metadata": {},
   "source": [
    "4. Develop a program that finds the factorial of a given number using a `for` loop."
   ]
  },
  {
   "cell_type": "code",
   "execution_count": 10,
   "id": "cd3aebee-d3c6-4f04-b5be-a69e6ee74194",
   "metadata": {},
   "outputs": [
    {
     "name": "stdin",
     "output_type": "stream",
     "text": [
      "Enter a number 5\n"
     ]
    },
    {
     "name": "stdout",
     "output_type": "stream",
     "text": [
      "120\n"
     ]
    }
   ],
   "source": [
    "f = int(input('Enter a number'))\n",
    "pr=1\n",
    "for i in range(1,f+1):\n",
    "    pr=pr*i\n",
    "print(pr)"
   ]
  },
  {
   "cell_type": "markdown",
   "id": "84631145-d9b0-4650-92ad-18dff15b3d26",
   "metadata": {},
   "source": [
    "5. Create a program to print the multiplication table of a given number using a `for` loop."
   ]
  },
  {
   "cell_type": "code",
   "execution_count": 11,
   "id": "4ff3a2a3-4eed-4b9a-b7be-1de770ebfbfa",
   "metadata": {},
   "outputs": [
    {
     "name": "stdin",
     "output_type": "stream",
     "text": [
      "Enter a number whose table you want to print 2\n"
     ]
    },
    {
     "name": "stdout",
     "output_type": "stream",
     "text": [
      "2x1=2\n",
      "2x2=4\n",
      "2x3=6\n",
      "2x4=8\n",
      "2x5=10\n",
      "2x6=12\n",
      "2x7=14\n",
      "2x8=16\n",
      "2x9=18\n",
      "2x10=20\n"
     ]
    }
   ],
   "source": [
    "t = int(input('Enter a number whose table you want to print'))\n",
    "for i in range(1,11):\n",
    "    print(f'{t}x{i}={t*i}')"
   ]
  },
  {
   "cell_type": "markdown",
   "id": "acc102c8-e45e-41db-a9eb-a4cd061b4c0b",
   "metadata": {},
   "source": [
    "6. Write a program that counts the number of even and odd numbers in a list using a `for` loop."
   ]
  },
  {
   "cell_type": "code",
   "execution_count": 14,
   "id": "df76f1fa-3543-4485-9c98-cd1c3b5f9246",
   "metadata": {},
   "outputs": [
    {
     "name": "stdout",
     "output_type": "stream",
     "text": [
      "The number of add terms is 6 and number of even terms is 2\n"
     ]
    }
   ],
   "source": [
    "l=[1,2,33,4,5,3,7,3]\n",
    "ce=0\n",
    "co=0\n",
    "for i in l:\n",
    "    if i%2==0:\n",
    "        ce+=1\n",
    "    else:\n",
    "        co+=1\n",
    "print(f'The number of add terms is {co} and number of even terms is {ce}')"
   ]
  },
  {
   "cell_type": "markdown",
   "id": "0851b134-640c-4a10-8fd0-0ab3536b12a4",
   "metadata": {},
   "source": [
    "7. Develop a program that prints the squares of numbers from 1 to 5 using a `for` loop."
   ]
  },
  {
   "cell_type": "code",
   "execution_count": 16,
   "id": "5f8adf7f-12e5-40e9-8672-f92d67d6d17a",
   "metadata": {},
   "outputs": [
    {
     "name": "stdout",
     "output_type": "stream",
     "text": [
      "1\n",
      "4\n",
      "9\n",
      "16\n",
      "25\n"
     ]
    }
   ],
   "source": [
    "for i in range(1,6):\n",
    "    print(i*i)"
   ]
  },
  {
   "cell_type": "markdown",
   "id": "f5f60650-5e74-4464-b079-b3557e6c9d5c",
   "metadata": {},
   "source": [
    "8. Create a program to find the length of a string without using the `len()` function."
   ]
  },
  {
   "cell_type": "code",
   "execution_count": 18,
   "id": "e5b57f28-2b37-4797-b00f-17a163bd8285",
   "metadata": {},
   "outputs": [
    {
     "name": "stdin",
     "output_type": "stream",
     "text": [
      "Enter a string I love pw\n"
     ]
    },
    {
     "name": "stdout",
     "output_type": "stream",
     "text": [
      "The length of the strig is 9\n"
     ]
    }
   ],
   "source": [
    "s=input('Enter a string')\n",
    "c=0\n",
    "for i in s:\n",
    "    c+=1\n",
    "print(f'The length of the strig is {c}')"
   ]
  },
  {
   "cell_type": "markdown",
   "id": "405e36f5-2336-4fea-92b5-93ad820f64cd",
   "metadata": {},
   "source": [
    "9. Write a program that calculates the average of a list of numbers using a `for` loop."
   ]
  },
  {
   "cell_type": "code",
   "execution_count": 19,
   "id": "1c899a30-c2c0-4016-8ca8-fbe257912a7e",
   "metadata": {},
   "outputs": [
    {
     "name": "stdout",
     "output_type": "stream",
     "text": [
      "The average is 3.0\n"
     ]
    }
   ],
   "source": [
    "l=[1,2,3,4,5]\n",
    "s=0\n",
    "for i in l:\n",
    "    s=s+i\n",
    "print(f'The average is {s/len(l)}')"
   ]
  },
  {
   "cell_type": "markdown",
   "id": "3394a4c2-ae1f-424a-b5f1-a32015c04e97",
   "metadata": {},
   "source": [
    "10. Develop a program that prints the first `n` Fibonacci numbers using a `for` loop.\n",
    "\n"
   ]
  },
  {
   "cell_type": "code",
   "execution_count": 22,
   "id": "a8eba487-9e65-4322-b301-a9de76ba9b4d",
   "metadata": {},
   "outputs": [
    {
     "name": "stdin",
     "output_type": "stream",
     "text": [
      "Enter a number 10\n"
     ]
    },
    {
     "name": "stdout",
     "output_type": "stream",
     "text": [
      "[0, 1, 1, 2, 3, 5, 8, 13, 21, 34]\n"
     ]
    }
   ],
   "source": [
    "n=int(input('Enter a number'))\n",
    "a=0\n",
    "b=1\n",
    "f=[]\n",
    "for i in range(n):\n",
    "    if i ==0 or i==1:\n",
    "        f.append(i)\n",
    "    else:\n",
    "        s=f[i-2]+f[i-1]\n",
    "        f.append(s)\n",
    "print(f)\n",
    "    \n",
    "    \n",
    "    \n",
    "    "
   ]
  },
  {
   "cell_type": "markdown",
   "id": "d06024a3-ee0f-446a-a102-a74ea5754080",
   "metadata": {},
   "source": [
    "## Intermediate Level:"
   ]
  },
  {
   "cell_type": "markdown",
   "id": "b41ae118-483d-48fe-a4d1-b15536703c0f",
   "metadata": {},
   "source": [
    "11. Write a program to check if a given list contains any duplicates using a `for` loop."
   ]
  },
  {
   "cell_type": "code",
   "execution_count": 30,
   "id": "a9832e70-f830-4e78-beb2-7b68ca702d77",
   "metadata": {},
   "outputs": [
    {
     "name": "stdout",
     "output_type": "stream",
     "text": [
      "Duplicates Present\n"
     ]
    }
   ],
   "source": [
    "l=[1,2,3,4,5,6,1,2]\n",
    "cd=0 #to count duplicates\n",
    "m=l  #to iterate over list without the element that we are checking  \n",
    "for i in l:\n",
    "    m.remove(i)\n",
    "    for j in m:\n",
    "        if i==j:\n",
    "            cd+=1\n",
    "if cd>0:\n",
    "    print('Duplicates Present')\n",
    "else:\n",
    "    print('No duplicates present')"
   ]
  },
  {
   "cell_type": "markdown",
   "id": "68e022c8-d592-4d81-aedb-237473b2112e",
   "metadata": {},
   "source": [
    "12. Create a program that prints the prime numbers in a given range using a `for` loop."
   ]
  },
  {
   "cell_type": "code",
   "execution_count": 6,
   "id": "cb113f39-3930-4f8e-ade1-e98df37b0d8d",
   "metadata": {},
   "outputs": [
    {
     "name": "stdin",
     "output_type": "stream",
     "text": [
      "Enter range 11\n"
     ]
    },
    {
     "name": "stdout",
     "output_type": "stream",
     "text": [
      "[2, 3, 5, 7, 11]\n"
     ]
    }
   ],
   "source": [
    "n= int(input('Enter range'))\n",
    "c=0               #to count divisibility\n",
    "p=[]              #list to store primes\n",
    "for i in range(1,n+1):\n",
    "    for j in range(1,i+1):     \n",
    "        if i%j ==0:\n",
    "            c+=1\n",
    "    if c==2:\n",
    "        p.append(i)\n",
    "    c=0\n",
    "print(p)\n",
    "    \n",
    "    "
   ]
  },
  {
   "cell_type": "code",
   "execution_count": 3,
   "id": "ab375b7a-31e7-435b-a60a-84c894502c3c",
   "metadata": {},
   "outputs": [
    {
     "data": {
      "text/plain": [
       "10"
      ]
     },
     "execution_count": 3,
     "metadata": {},
     "output_type": "execute_result"
    }
   ],
   "source": [
    "c"
   ]
  },
  {
   "cell_type": "markdown",
   "id": "928d4ab0-4bcd-4e92-a77e-2f6813152b20",
   "metadata": {},
   "source": [
    "13. Develop a program that counts the number of vowels in a string using a `for` loop."
   ]
  },
  {
   "cell_type": "code",
   "execution_count": 9,
   "id": "948f20f8-253f-48e1-9c5a-090c5e201f3a",
   "metadata": {},
   "outputs": [
    {
     "name": "stdin",
     "output_type": "stream",
     "text": [
      "Enter a string helloo\n"
     ]
    },
    {
     "name": "stdout",
     "output_type": "stream",
     "text": [
      "The vowel count is  3\n"
     ]
    }
   ],
   "source": [
    "s=input('Enter a string')\n",
    "c=0\n",
    "for i in s:\n",
    "    if i=='a' or i=='e' or i=='i' or i=='o' or i=='u':\n",
    "        c+=1\n",
    "print('The vowel count is ',c)"
   ]
  },
  {
   "cell_type": "markdown",
   "id": "39f751e8-eb98-4219-a5dd-cf1ebba465dd",
   "metadata": {},
   "source": [
    "14. Write a program to find the maximum element in a 2D list using a nested `for` loop."
   ]
  },
  {
   "cell_type": "code",
   "execution_count": 4,
   "id": "5c346e6d-2526-4de3-9404-65e6fd9511f0",
   "metadata": {},
   "outputs": [
    {
     "name": "stdout",
     "output_type": "stream",
     "text": [
      "10\n"
     ]
    }
   ],
   "source": [
    "l=[\n",
    "    [1,2,4],\n",
    "    [6,10,1],\n",
    "    [1,2,3]\n",
    "]\n",
    "max=l[0][0]\n",
    "for i in l:\n",
    "    for j in i:\n",
    "        if j>max:\n",
    "            max=j\n",
    "print(max)\n",
    "\n"
   ]
  },
  {
   "cell_type": "markdown",
   "id": "6bbc3b6a-cad7-4df0-93a8-ea1caea56f9b",
   "metadata": {},
   "source": [
    "15. Create a program that removes all occurrences of a specific element from a list using a `for` loop."
   ]
  },
  {
   "cell_type": "code",
   "execution_count": 16,
   "id": "1434ea61-ed03-4ff7-ab4e-d9d69490fd94",
   "metadata": {},
   "outputs": [
    {
     "name": "stdin",
     "output_type": "stream",
     "text": [
      "Enter number to be checked 2\n"
     ]
    },
    {
     "name": "stdout",
     "output_type": "stream",
     "text": [
      "number exists in list\n"
     ]
    }
   ],
   "source": [
    "l=[2,4,6,7]\n",
    "c=0\n",
    "e=int(input('Enter number to be checked'))\n",
    "for i in l:\n",
    "    if i==e:\n",
    "        c+=1\n",
    "if c>0:\n",
    "    print('number exists in list')\n",
    "else:\n",
    "    print('number does not exist in list')"
   ]
  },
  {
   "cell_type": "markdown",
   "id": "e46ad8e5-2e86-4384-a259-a3eae611c64a",
   "metadata": {},
   "source": [
    "16. Develop a program that generates a multiplication table for numbers from 1 to 5 using a nested `for` loop."
   ]
  },
  {
   "cell_type": "code",
   "execution_count": 17,
   "id": "f3cb610f-ebce-4f7c-9920-56fe1b19ec68",
   "metadata": {},
   "outputs": [
    {
     "name": "stdout",
     "output_type": "stream",
     "text": [
      "Table of 1\n",
      "1x1=1\n",
      "1x2=2\n",
      "1x3=3\n",
      "1x4=4\n",
      "1x5=5\n",
      "1x6=6\n",
      "1x7=7\n",
      "1x8=8\n",
      "1x9=9\n",
      "1x10=10\n",
      "End of Table\n",
      "Table of 2\n",
      "2x1=2\n",
      "2x2=4\n",
      "2x3=6\n",
      "2x4=8\n",
      "2x5=10\n",
      "2x6=12\n",
      "2x7=14\n",
      "2x8=16\n",
      "2x9=18\n",
      "2x10=20\n",
      "End of Table\n",
      "Table of 3\n",
      "3x1=3\n",
      "3x2=6\n",
      "3x3=9\n",
      "3x4=12\n",
      "3x5=15\n",
      "3x6=18\n",
      "3x7=21\n",
      "3x8=24\n",
      "3x9=27\n",
      "3x10=30\n",
      "End of Table\n",
      "Table of 4\n",
      "4x1=4\n",
      "4x2=8\n",
      "4x3=12\n",
      "4x4=16\n",
      "4x5=20\n",
      "4x6=24\n",
      "4x7=28\n",
      "4x8=32\n",
      "4x9=36\n",
      "4x10=40\n",
      "End of Table\n",
      "Table of 5\n",
      "5x1=5\n",
      "5x2=10\n",
      "5x3=15\n",
      "5x4=20\n",
      "5x5=25\n",
      "5x6=30\n",
      "5x7=35\n",
      "5x8=40\n",
      "5x9=45\n",
      "5x10=50\n",
      "End of Table\n"
     ]
    }
   ],
   "source": [
    "for i in range(1,6):\n",
    "    print(f'Table of {i}')\n",
    "    for j in range(1,11):\n",
    "        print(f'{i}x{j}={i*j}')\n",
    "    print(f'End of Table')"
   ]
  },
  {
   "cell_type": "markdown",
   "id": "babee793-e3c8-4625-9553-68f7b3f516b4",
   "metadata": {},
   "source": [
    "17. Write a program that converts a list of Fahrenheit temperatures to Celsius using a `for` loop."
   ]
  },
  {
   "cell_type": "code",
   "execution_count": null,
   "id": "5ae2777a-0394-496d-b927-f9373aa50f0e",
   "metadata": {},
   "outputs": [],
   "source": [
    "temp_C = input(\"Enter temperature in Celsius\")    #Asks user to input temperature in Celsius\n",
    "temp_C = float(temp_C)                            #Typecast to float datatype\n",
    "temp_F = (9/5)*temp_C + 32                        # Convert to Fahrenheit using standard formula\n",
    "print(\"The temperature in Fahrenheit is\", temp_F) #Display result in Fahrenheit"
   ]
  },
  {
   "cell_type": "code",
   "execution_count": 19,
   "id": "71991418-8464-4e74-8129-1071fed4e212",
   "metadata": {},
   "outputs": [
    {
     "name": "stdout",
     "output_type": "stream",
     "text": [
      "[1.1111111111111112, 36.66666666666667, 48.88888888888889]\n"
     ]
    }
   ],
   "source": [
    "lf=[34,98,120]\n",
    "lc=[]\n",
    "for i in lf:\n",
    "    c= (i-32)*(5/9)\n",
    "    lc.append(c)\n",
    "print(lc)"
   ]
  },
  {
   "cell_type": "markdown",
   "id": "f63b166c-8bd9-4af0-ba26-85977d35ace1",
   "metadata": {},
   "source": [
    "18. Create a program to print the common elements from two lists using a `for` loop."
   ]
  },
  {
   "cell_type": "code",
   "execution_count": 31,
   "id": "710b602d-41a6-40ad-b895-2f5b5b65bb69",
   "metadata": {},
   "outputs": [
    {
     "name": "stdout",
     "output_type": "stream",
     "text": [
      "[3, 4, 5]\n"
     ]
    }
   ],
   "source": [
    "l1=[1,2,3,4,5]\n",
    "l2=[3,4,5,6,7,9]\n",
    "\n",
    "cml=[]     #list to store common element\n",
    "for i in l1:\n",
    "    for j in l2:\n",
    "        if j==i:\n",
    "            r=l2.pop(l2.index(j))  #To pop common element out\n",
    "            cml.append(r)         #to make list of commom element\n",
    "print(cml)\n",
    "           "
   ]
  },
  {
   "cell_type": "markdown",
   "id": "baf6e111-3a8a-4fe7-b188-a49c52430f99",
   "metadata": {},
   "source": [
    "19. Develop a program that prints the pattern of right-angled triangles using a `for` loop. Use ‘*’ to draw the\n",
    "pattern"
   ]
  },
  {
   "cell_type": "code",
   "execution_count": 44,
   "id": "911b53a8-4715-40fc-83d6-71d4534f8afc",
   "metadata": {},
   "outputs": [
    {
     "name": "stdout",
     "output_type": "stream",
     "text": [
      "* \n",
      "\n",
      "* * \n",
      "\n",
      "* * * \n",
      "\n",
      "* * * * \n",
      "\n",
      "* * * * * \n",
      "\n"
     ]
    }
   ],
   "source": [
    "for i in range(5):\n",
    "    for j in range(i+1):\n",
    "        print('*',end=' ')\n",
    "    print('\\n')"
   ]
  },
  {
   "cell_type": "markdown",
   "id": "00632b92-b7f9-45c0-8e98-9d0a58d81e66",
   "metadata": {},
   "source": [
    "20. Write a program to find the greatest common divisor (GCD) of two numbers using a `for` loop."
   ]
  },
  {
   "cell_type": "code",
   "execution_count": 42,
   "id": "0584a2b5-fc21-46f3-958e-5320f17254b7",
   "metadata": {},
   "outputs": [
    {
     "name": "stdin",
     "output_type": "stream",
     "text": [
      "Enter 1st number 25\n",
      "Enter 2nd number 20\n"
     ]
    },
    {
     "name": "stdout",
     "output_type": "stream",
     "text": [
      "5\n"
     ]
    }
   ],
   "source": [
    "num1 = int(input('Enter 1st number'))\n",
    "num2 = int(input('Enter 2nd number'))\n",
    "gcd=0\n",
    "if num1<num2:\n",
    "    n=num1\n",
    "else:\n",
    "    n=num2\n",
    "    \n",
    "for i in range(1,n+1):\n",
    "    if num1%i==0 and num2%i==0:\n",
    "        gcd=i\n",
    "print(gcd)\n",
    "    "
   ]
  },
  {
   "cell_type": "markdown",
   "id": "cf4c6682-37c9-4a31-8508-7e9a1a7533aa",
   "metadata": {},
   "source": [
    "## Advanced Level:"
   ]
  },
  {
   "cell_type": "raw",
   "id": "2c7c6d58-1870-4227-8da0-28066ed5f145",
   "metadata": {},
   "source": [
    "Advanced Level:\n",
    "21. Create a program that calculates the sum of the digits of numbers in a list using a list comprehension.\n",
    "22. Write a program to find the prime factors of a given number using a `for` loop and list comprehension.\n",
    "23. Develop a program that extracts unique elements from a list and stores them in a new list using a list\n",
    "comprehension.\n",
    "24. Create a program that generates a list of all palindromic numbers up to a specified limit using a list\n",
    "comprehension.\n",
    "25. Write a program to flatten a nested list using list comprehension.\n",
    "26. Develop a program that computes the sum of even and odd numbers in a list separately using list\n",
    "comprehension.\n",
    "27. Create a program that generates a list of squares of odd numbers between 1 and 10 using list\n",
    "comprehension.\n",
    "28. Write a program that combines two lists into a dictionary using list comprehension.\n",
    "29. Develop a program that extracts the vowels from a string and stores them in a list using list comprehension.\n",
    "30. Create a program that removes all non-numeric characters from a list of strings using list comprehension."
   ]
  },
  {
   "cell_type": "markdown",
   "id": "4f656151-d943-4d46-a638-69de143849ac",
   "metadata": {},
   "source": [
    "## 21. Create a program that calculates the sum of the digits of numbers in a list using a list comprehension."
   ]
  },
  {
   "cell_type": "code",
   "execution_count": 6,
   "id": "109f0515-cda4-49a1-b5a9-10c85a1e0c2e",
   "metadata": {},
   "outputs": [
    {
     "name": "stdout",
     "output_type": "stream",
     "text": [
      "[6, 9, 30, 30, 15]\n"
     ]
    }
   ],
   "source": [
    "numbers = [123, 45, 6789, 9876, 54321]\n",
    "\n",
    "def sum_of_digits(n):\n",
    "    return sum(int(digit) for digit in str(n))\n",
    "\n",
    "sums = [sum_of_digits(num) for num in numbers]\n",
    "print(sums)"
   ]
  },
  {
   "cell_type": "markdown",
   "id": "25e91b2d-9c45-4643-b29a-a52abc560f76",
   "metadata": {},
   "source": [
    "## 22. Write a program to find the prime factors of a given number using a `for` loop and list comprehension."
   ]
  },
  {
   "cell_type": "code",
   "execution_count": 3,
   "id": "d5c7b406-37db-4d28-ba06-ff30381701b8",
   "metadata": {},
   "outputs": [],
   "source": [
    "def prime(n):\n",
    "    factors =[num for num in range(2,n) if n%num==0]\n",
    "    prime_factors = [factor for factor in factors if all(factor%divisor!=0 for divisor in range(2,int(factor**0.5)+1))]\n",
    "    return prime_factors"
   ]
  },
  {
   "cell_type": "code",
   "execution_count": 5,
   "id": "78b285bf-2fc0-4a86-ad46-5f045ec74ad8",
   "metadata": {},
   "outputs": [
    {
     "data": {
      "text/plain": [
       "[2, 5]"
      ]
     },
     "execution_count": 5,
     "metadata": {},
     "output_type": "execute_result"
    }
   ],
   "source": [
    "prime(20)"
   ]
  },
  {
   "cell_type": "markdown",
   "id": "b15436f4-7a07-4437-9d75-a0db2b053ae2",
   "metadata": {},
   "source": [
    "23. Develop a program that extracts unique elements from a list and stores them in a new list using a list comprehension.\n",
    "    "
   ]
  },
  {
   "cell_type": "code",
   "execution_count": 7,
   "id": "e4e92e0a-3073-4231-9b1c-03c952ffc92c",
   "metadata": {},
   "outputs": [
    {
     "name": "stdout",
     "output_type": "stream",
     "text": [
      "[1, 2, 3, 4, 5, 6, 7, 8]\n"
     ]
    }
   ],
   "source": [
    "original_list = [1, 2, 3, 2, 4, 5, 3, 6, 7, 6, 8]\n",
    "new_list = list(set([x for x in original_list]))\n",
    "print(new_list)"
   ]
  },
  {
   "cell_type": "markdown",
   "id": "62c74f47-106e-4eeb-8a80-a2b3fdc06df3",
   "metadata": {},
   "source": [
    "24. Create a program that generates a list of all palindromic numbers up to a specified limit using a list comprehension."
   ]
  },
  {
   "cell_type": "code",
   "execution_count": 13,
   "id": "3f859e24-91f8-441d-948f-a14d4b603c95",
   "metadata": {},
   "outputs": [
    {
     "name": "stdin",
     "output_type": "stream",
     "text": [
      "Enter the limit 50\n"
     ]
    },
    {
     "name": "stdout",
     "output_type": "stream",
     "text": [
      "[0, 1, 2, 3, 4, 5, 6, 7, 8, 9, 11, 22, 33, 44]\n"
     ]
    }
   ],
   "source": [
    "limit=int(input('Enter the limit'))\n",
    "pal_list=[num for num in range(limit+1) if str(num) == str(num)[::-1]]\n",
    "print(pal_list)"
   ]
  },
  {
   "cell_type": "markdown",
   "id": "0aee7e79-5b99-4b9c-92d9-11f86cb890a4",
   "metadata": {},
   "source": [
    "25. Write a program to flatten a nested list using list comprehension."
   ]
  },
  {
   "cell_type": "code",
   "execution_count": 17,
   "id": "62b4ca43-283b-4712-bb61-7cfd7775d18d",
   "metadata": {},
   "outputs": [
    {
     "name": "stdout",
     "output_type": "stream",
     "text": [
      "[1, 2, 3, 4, 5, 6, 7, 8, 9]\n"
     ]
    }
   ],
   "source": [
    "nested_list = [[1, 2, 3], [4, 5], [6, 7, 8, 9]]\n",
    "flat_list = [num for sublist in nested_list for num in sublist]\n",
    "print(flat_list)"
   ]
  },
  {
   "cell_type": "markdown",
   "id": "17a44cc3-d21a-4835-813b-9989219b1da4",
   "metadata": {},
   "source": [
    "26. Develop a program that computes the sum of even and odd numbers in a list separately using list comprehension."
   ]
  },
  {
   "cell_type": "code",
   "execution_count": 18,
   "id": "b0446ae3-7fe4-401b-b04a-990025c02641",
   "metadata": {},
   "outputs": [
    {
     "name": "stdout",
     "output_type": "stream",
     "text": [
      "Sum of even numbers: 30\n",
      "Sum of odd numbers: 25\n"
     ]
    }
   ],
   "source": [
    "numbers = [1, 2, 3, 4, 5, 6, 7, 8, 9, 10]\n",
    "even_sum = sum([num for num in numbers if num % 2 == 0])\n",
    "odd_sum = sum([num for num in numbers if num % 2 != 0])\n",
    "print(\"Sum of even numbers:\", even_sum)\n",
    "print(\"Sum of odd numbers:\", odd_sum)"
   ]
  },
  {
   "cell_type": "markdown",
   "id": "d8c41a3c-ce20-43a4-843f-12c5aca8d48d",
   "metadata": {},
   "source": [
    "27. Create a program that generates a list of squares of odd numbers between 1 and 10 using list comprehension."
   ]
  },
  {
   "cell_type": "code",
   "execution_count": 19,
   "id": "3c966ba1-ebc4-4e90-ac43-e152bf9a37bc",
   "metadata": {},
   "outputs": [
    {
     "name": "stdout",
     "output_type": "stream",
     "text": [
      "[1, 9, 25, 49, 81]\n"
     ]
    }
   ],
   "source": [
    "odd_squares = [x**2 for x in range(1, 11) if x % 2 != 0]\n",
    "print(odd_squares)"
   ]
  },
  {
   "cell_type": "markdown",
   "id": "2bc15d84-4872-461c-99a0-ce0f17585237",
   "metadata": {},
   "source": [
    "28. Write a program that combines two lists into a dictionary using list comprehension."
   ]
  },
  {
   "cell_type": "code",
   "execution_count": 20,
   "id": "6960f9d6-1051-42f1-aeac-f4fc80d3b6f3",
   "metadata": {},
   "outputs": [
    {
     "name": "stdout",
     "output_type": "stream",
     "text": [
      "{'key1': 1, 'key2': 2, 'key3': 3}\n"
     ]
    }
   ],
   "source": [
    "keys = ['key1', 'key2', 'key3']\n",
    "values = [1, 2, 3]\n",
    "my_dict = {keys[i]: values[i] for i in range(len(keys))}\n",
    "print(my_dict)"
   ]
  },
  {
   "cell_type": "markdown",
   "id": "7a69fc17-b7cf-45f2-886e-50bb3b1bd70e",
   "metadata": {},
   "source": [
    "29. Develop a program that extracts the vowels from a string and stores them in a list using list comprehension.\n"
   ]
  },
  {
   "cell_type": "code",
   "execution_count": 21,
   "id": "21dfe9bd-aa5c-4c5a-923b-7acf768d9a85",
   "metadata": {},
   "outputs": [
    {
     "name": "stdout",
     "output_type": "stream",
     "text": [
      "['e', 'o', 'o']\n"
     ]
    }
   ],
   "source": [
    "string = \"Hello, World!\"\n",
    "vowels = ['a', 'e', 'i', 'o', 'u', 'A', 'E', 'I', 'O', 'U']\n",
    "vowel_list = [char for char in string if char in vowels]\n",
    "print(vowel_list)"
   ]
  },
  {
   "cell_type": "markdown",
   "id": "efae808f-adc0-4a3a-a392-b43c7c20b53d",
   "metadata": {},
   "source": [
    "30. Create a program that removes all non-numeric characters from a list of strings using list comprehension."
   ]
  },
  {
   "cell_type": "code",
   "execution_count": 22,
   "id": "ea2ba7c8-d570-43da-96d3-d1864e6bc26b",
   "metadata": {},
   "outputs": [
    {
     "name": "stdout",
     "output_type": "stream",
     "text": [
      "['123', '456', '789']\n"
     ]
    }
   ],
   "source": [
    "my_list = ['abc123', 'def456', 'ghi789']\n",
    "new_list = [''.join([char for char in string if char.isnumeric()]) for string in my_list]\n",
    "print(new_list)"
   ]
  },
  {
   "cell_type": "markdown",
   "id": "8279c066-660f-4ef9-baa2-81a25af7e23f",
   "metadata": {},
   "source": [
    "## Challenge Level:"
   ]
  },
  {
   "cell_type": "markdown",
   "id": "854f1fb0-491a-4fe9-889d-ce4ee6122ec3",
   "metadata": {},
   "source": [
    "## 31. Write a program to generate a list of prime numbers using the Sieve of Eratosthenes algorithm and list comprehension."
   ]
  },
  {
   "cell_type": "code",
   "execution_count": 23,
   "id": "5e6ec484-70db-4efe-b70a-a6114ce5b033",
   "metadata": {},
   "outputs": [],
   "source": [
    "def sieve_of_eratosthenes(n):\n",
    "    primes = [True] * (n+1)\n",
    "    primes[0] = primes[1] = False\n",
    "    for i in range(2, int(n**0.5)+1):\n",
    "        if primes[i]:\n",
    "            primes[i*i:n+1:i] = [False] * len(primes[i*i:n+1:i])\n",
    "    return [i for i in range(2, n+1) if primes[i]]"
   ]
  },
  {
   "cell_type": "markdown",
   "id": "1b1461c6-8c51-482a-ad50-be86ea33b75c",
   "metadata": {},
   "source": [
    "## 32. Create a program that generates a list of all Pythagorean triplets up to a specified limit using list comprehension."
   ]
  },
  {
   "cell_type": "code",
   "execution_count": 24,
   "id": "a9bacfd0-7ede-4cdc-bc7a-fd113f22f15c",
   "metadata": {},
   "outputs": [
    {
     "name": "stdout",
     "output_type": "stream",
     "text": [
      "[(3, 4, 5), (6, 8, 10), (5, 12, 13), (9, 12, 15), (8, 15, 17), (12, 16, 20)]\n"
     ]
    }
   ],
   "source": [
    "limit = 20\n",
    "triplets = [(a, b, c) for c in range(1, limit+1) for b in range(1, c) for a in range(1, b) if a**2 + b**2 == c**2]\n",
    "print(triplets)"
   ]
  },
  {
   "cell_type": "markdown",
   "id": "074c0ad9-280c-4899-8a15-ff23dff4f97c",
   "metadata": {},
   "source": [
    "33. Develop a program that generates a list of all possible combinations of two lists using list comprehension."
   ]
  },
  {
   "cell_type": "code",
   "execution_count": 25,
   "id": "d7fe0379-cfae-43ff-a126-e519bf7a8bbc",
   "metadata": {},
   "outputs": [
    {
     "name": "stdout",
     "output_type": "stream",
     "text": [
      "[(1, 'a'), (1, 'b'), (1, 'c'), (2, 'a'), (2, 'b'), (2, 'c'), (3, 'a'), (3, 'b'), (3, 'c')]\n"
     ]
    }
   ],
   "source": [
    "list1 = [1, 2, 3]\n",
    "list2 = ['a', 'b', 'c']\n",
    "combinations = [(x, y) for x in list1 for y in list2]\n",
    "print(combinations)"
   ]
  },
  {
   "cell_type": "markdown",
   "id": "a12640af-1719-4aa2-8595-1b406e2c54c5",
   "metadata": {},
   "source": [
    "## 34. Write a program that calculates the mean, median, and mode of a list of numbers using list comprehension."
   ]
  },
  {
   "cell_type": "code",
   "execution_count": 26,
   "id": "9f4f2353-6d62-46f8-9d26-c4d0a7cac262",
   "metadata": {},
   "outputs": [
    {
     "name": "stdout",
     "output_type": "stream",
     "text": [
      "Mean: 5.0\n",
      "Median: 5.0\n",
      "Mode: 5\n"
     ]
    }
   ],
   "source": [
    "# Define a list of numbers\n",
    "numbers = [1, 2, 3, 4, 5, 5, 6, 7, 8, 9]\n",
    "\n",
    "# Calculate the mean using list comprehension\n",
    "mean = sum(numbers) / len(numbers)\n",
    "\n",
    "# Calculate the median using list comprehension\n",
    "n = len(numbers)\n",
    "sorted_numbers = sorted(numbers)\n",
    "median = (sorted_numbers[n//2] + sorted_numbers[(n-1)//2]) / 2\n",
    "\n",
    "# Calculate the mode using list comprehension\n",
    "mode = max(set(numbers), key = numbers.count)\n",
    "\n",
    "# Print the results\n",
    "print(\"Mean:\", mean)\n",
    "print(\"Median:\", median)\n",
    "print(\"Mode:\", mode)"
   ]
  },
  {
   "cell_type": "markdown",
   "id": "37caeab7-6412-4a17-98cc-3f494bdf2997",
   "metadata": {},
   "source": [
    "## 35. Create a program that generates Pascal's triangle up to a specified number of rows using list comprehension.\n",
    "\n"
   ]
  },
  {
   "cell_type": "code",
   "execution_count": 27,
   "id": "0b620d88-9782-402e-956d-067bbf8e5d09",
   "metadata": {},
   "outputs": [],
   "source": [
    "def pascal_triangle(n):\n",
    "    triangle = [[1] * (i+1) for i in range(n)]\n",
    "    for i in range(n):\n",
    "        for j in range(1, i):\n",
    "            triangle[i][j] = triangle[i-1][j-1] + triangle[i-1][j]\n",
    "    return triangle"
   ]
  },
  {
   "cell_type": "code",
   "execution_count": 28,
   "id": "f8f3e26b-aa6a-48b5-80ba-fb3f34124c57",
   "metadata": {},
   "outputs": [
    {
     "data": {
      "text/plain": [
       "[[1], [1, 1], [1, 2, 1], [1, 3, 3, 1], [1, 4, 6, 4, 1]]"
      ]
     },
     "execution_count": 28,
     "metadata": {},
     "output_type": "execute_result"
    }
   ],
   "source": [
    "pascal_triangle(5)"
   ]
  },
  {
   "cell_type": "markdown",
   "id": "308878eb-304f-47f3-80ef-01de6f73b0d2",
   "metadata": {},
   "source": [
    "36. Develop a program that calculates the sum of the digits of a factorial of numbers from 1 to 5 using list comprehension."
   ]
  },
  {
   "cell_type": "code",
   "execution_count": 29,
   "id": "ccc5df25-0240-49b3-8f95-e0595f3a72b2",
   "metadata": {},
   "outputs": [
    {
     "name": "stdout",
     "output_type": "stream",
     "text": [
      "[1, 2, 6, 6, 3]\n"
     ]
    }
   ],
   "source": [
    "# Define a function to calculate the factorial of a number\n",
    "def factorial(n):\n",
    "    if n == 0:\n",
    "        return 1\n",
    "    else:\n",
    "        return n * factorial(n-1)\n",
    "\n",
    "# Use list comprehension to calculate the sum of the digits of the factorial of numbers from 1 to 5\n",
    "sum_of_digits = [sum(int(digit) for digit in str(factorial(n))) for n in range(1, 6)]\n",
    "\n",
    "# Print the result\n",
    "print(sum_of_digits)"
   ]
  },
  {
   "cell_type": "markdown",
   "id": "d2d1e00b-9fdc-48e2-89ae-10a87e3451c8",
   "metadata": {},
   "source": [
    "37. Write a program that finds the longest word in a sentence using list comprehension."
   ]
  },
  {
   "cell_type": "code",
   "execution_count": 30,
   "id": "87c268a3-437f-488d-b875-4e5f5d001197",
   "metadata": {},
   "outputs": [
    {
     "name": "stdin",
     "output_type": "stream",
     "text": [
      "Enter a sentence:  he is a boy\n"
     ]
    },
    {
     "name": "stdout",
     "output_type": "stream",
     "text": [
      "The longest word is: boy\n"
     ]
    }
   ],
   "source": [
    "sentence = input(\"Enter a sentence: \")\n",
    "longest_word = max([word for word in sentence.split()], key=len)\n",
    "print(\"The longest word is:\", longest_word)"
   ]
  },
  {
   "cell_type": "markdown",
   "id": "02dd28e0-34fc-4852-9710-c05481a5b2d7",
   "metadata": {},
   "source": [
    "38. Create a program that filters a list of strings to include only those with more than three vowels using list comprehension."
   ]
  },
  {
   "cell_type": "code",
   "execution_count": 31,
   "id": "97a81cfd-ba46-4bbe-839e-50f99fceacdc",
   "metadata": {},
   "outputs": [
    {
     "name": "stdout",
     "output_type": "stream",
     "text": [
      "['grapefruit']\n"
     ]
    }
   ],
   "source": [
    "my_list = [\"hello\", \"world\", \"apple\", \"banana\", \"orange\", \"grapefruit\"]\n",
    "filtered_list = [string for string in my_list if len([char for char in string if char in \"aeiouAEIOU\"]) > 3]\n",
    "print(filtered_list)"
   ]
  },
  {
   "cell_type": "markdown",
   "id": "b0849b51-2c96-4df1-adea-a3ecf16f876b",
   "metadata": {},
   "source": [
    "39. Develop a program that calculates the sum of the digits of numbers from 1 to 1000 using list\n",
    "comprehension."
   ]
  },
  {
   "cell_type": "code",
   "execution_count": 33,
   "id": "11845c99-cb60-4cdd-a3d1-c93cd1dd4b94",
   "metadata": {},
   "outputs": [
    {
     "name": "stdout",
     "output_type": "stream",
     "text": [
      "13501\n"
     ]
    }
   ],
   "source": [
    "# Define a function to calculate the sum of digits of a number\n",
    "def sum_of_digits(n):\n",
    "    return sum(int(d) for d in str(n))\n",
    "\n",
    "# Create a list of numbers from 1 to 1000 using list comprehension\n",
    "numbers = [i for i in range(1, 1001)]\n",
    "\n",
    "# Use list comprehension to apply the function to each number in the list\n",
    "sums_of_digits = [sum_of_digits(n) for n in numbers]\n",
    "\n",
    "# Use sum() function to find the sum of all the sums of digits\n",
    "result = sum(sums_of_digits)\n",
    "\n",
    "print(result)"
   ]
  },
  {
   "cell_type": "markdown",
   "id": "7d90a84a-c548-4878-9a58-566a4568973a",
   "metadata": {},
   "source": [
    "## 40. Write a program that generates a list of prime palindromic numbers using list comprehension."
   ]
  },
  {
   "cell_type": "code",
   "execution_count": null,
   "id": "2486d9da-d810-4589-b411-be0f57c92f32",
   "metadata": {},
   "outputs": [],
   "source": [
    "# Generate a list of prime numbers using list comprehension\n",
    "primes = [x for x in range(2, 1000) if all(x % y != 0 for y in range(2, int(x**0.5)+1))]\n",
    "\n",
    "# Filter out the palindromic numbers from the list of primes using another list comprehension\n",
    "palindromic_primes = [x for x in primes if str(x) == str(x)[::-1]]"
   ]
  }
 ],
 "metadata": {
  "kernelspec": {
   "display_name": "Python 3 (ipykernel)",
   "language": "python",
   "name": "python3"
  },
  "language_info": {
   "codemirror_mode": {
    "name": "ipython",
    "version": 3
   },
   "file_extension": ".py",
   "mimetype": "text/x-python",
   "name": "python",
   "nbconvert_exporter": "python",
   "pygments_lexer": "ipython3",
   "version": "3.10.8"
  }
 },
 "nbformat": 4,
 "nbformat_minor": 5
}
