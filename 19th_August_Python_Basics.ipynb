{
 "cells": [
  {
   "cell_type": "markdown",
   "id": "b9c82ce9-18d6-47e7-a90b-d056f4098606",
   "metadata": {},
   "source": [
    "PYTHON BASICS VARIABLE"
   ]
  },
  {
   "cell_type": "markdown",
   "id": "67bcd932-1fe0-4f43-981b-9f35f9bd297b",
   "metadata": {},
   "source": [
    "Question-1: Declare two variables, `x` and `y`, and assign them integer values. Swap the\n",
    "values of these variables without using any temporary variable.\n"
   ]
  },
  {
   "cell_type": "code",
   "execution_count": 5,
   "id": "2e0ff006-0a40-4a4c-8e43-ba6e6be17648",
   "metadata": {},
   "outputs": [
    {
     "name": "stdout",
     "output_type": "stream",
     "text": [
      "20\n",
      "10\n"
     ]
    }
   ],
   "source": [
    "x = 10 #Define variable x and assign it's value to 10\n",
    "y = 20 #Define variable y and assign it's value to 20\n",
    "x=x+y  #Add two values\n",
    "y=x-y  #Assign y to 10 by substracting 20 from 30\n",
    "x=x-y  #Assign x to 20 by substracting 10 from 30\n",
    "print(x) #print swapped value of x as 20\n",
    "print(y) #print swapped value of y as 10"
   ]
  },
  {
   "cell_type": "markdown",
   "id": "30c1074a-3455-43a6-8356-072fe9ec5467",
   "metadata": {},
   "source": [
    "Question-2: Create a program that calculates the area of a rectangle. Take the length and\n",
    "width as inputs from the user and store them in variables. Calculate and\n",
    "display the area."
   ]
  },
  {
   "cell_type": "code",
   "execution_count": 6,
   "id": "4603c2a1-5138-4a1b-be0a-d857896277f1",
   "metadata": {},
   "outputs": [
    {
     "name": "stdin",
     "output_type": "stream",
     "text": [
      "Enter length of the rectangle 10\n",
      "Enter breadth of the rectangle 5\n"
     ]
    },
    {
     "name": "stdout",
     "output_type": "stream",
     "text": [
      "The area of rectangle is 50\n"
     ]
    }
   ],
   "source": [
    "l = input(\"Enter length of the rectangle\")     #Asks user to input length\n",
    "b = input(\"Enter breadth of the rectangle\")    #Asks user to input breadth\n",
    "A = int(l)*int(b)                              #calculate area of rectangle. Typecast to integer to multiply\n",
    "print(\"The area of rectangle is\", A)           #Print area of the rectangle"
   ]
  },
  {
   "cell_type": "markdown",
   "id": "dc5011f2-7c2f-4fa9-9ccb-a173ff220944",
   "metadata": {},
   "source": [
    "Question-3: Write a Python program that converts temperatures from Celsius to\n",
    "Fahrenheit. Take the temperature in Celsius as input, store it in a variable,\n",
    "convert it to Fahrenheit, and display the result."
   ]
  },
  {
   "cell_type": "code",
   "execution_count": 7,
   "id": "93055c08-f3f9-4c9c-aecd-4d727739bc16",
   "metadata": {},
   "outputs": [
    {
     "name": "stdin",
     "output_type": "stream",
     "text": [
      "Enter temperature in Celsius 37\n"
     ]
    },
    {
     "name": "stdout",
     "output_type": "stream",
     "text": [
      "The temperature in Fahrenheit is 98.60000000000001\n"
     ]
    }
   ],
   "source": [
    "temp_C = input(\"Enter temperature in Celsius\")    #Asks user to input temperature in Celsius\n",
    "temp_C = float(temp_C)                            #Typecast to float datatype\n",
    "temp_F = (9/5)*temp_C + 32                        # Convert to Fahrenheit using standard formula\n",
    "print(\"The temperature in Fahrenheit is\", temp_F) #Display result in Fahrenheit"
   ]
  },
  {
   "cell_type": "markdown",
   "id": "e3bb5b44-0381-4b7f-b6a2-d96f9e02f460",
   "metadata": {},
   "source": [
    "STRING BASED QUESTIONS\n"
   ]
  },
  {
   "cell_type": "markdown",
   "id": "2f7af4c2-98dc-4b63-a780-509c5e3f1de1",
   "metadata": {},
   "source": [
    "Question-1 : Write a Python program that takes a string as input and prints the length of\n",
    "the string."
   ]
  },
  {
   "cell_type": "code",
   "execution_count": 8,
   "id": "e3f19cbe-c177-465e-b295-bb5756790296",
   "metadata": {},
   "outputs": [
    {
     "name": "stdin",
     "output_type": "stream",
     "text": [
      "Enter any string My name is Nimish\n"
     ]
    },
    {
     "name": "stdout",
     "output_type": "stream",
     "text": [
      "The length of the string is 17\n"
     ]
    }
   ],
   "source": [
    "user = input(\"Enter any string\")                #Asks user to input any string\n",
    "print(\"The length of the string is\", len(user)) #Print the length os string by determining length using len() function"
   ]
  },
  {
   "cell_type": "markdown",
   "id": "1f71688b-68f0-4f9b-bb9d-d182841b9460",
   "metadata": {},
   "source": [
    "Question-2 : Create a program that takes a sentence from the user and counts the number\n",
    "of vowels (a, e, i, o, u) in the string."
   ]
  },
  {
   "cell_type": "code",
   "execution_count": 9,
   "id": "e1795a4f-3e5a-4606-8aa6-e2f2cf522ace",
   "metadata": {},
   "outputs": [
    {
     "name": "stdin",
     "output_type": "stream",
     "text": [
      "Enter a sentence in which you have to count vowel My name is Nimish\n"
     ]
    },
    {
     "name": "stdout",
     "output_type": "stream",
     "text": [
      "The number of vowels in given sentence is 5\n"
     ]
    }
   ],
   "source": [
    "sent = input(\"Enter a sentence in which you have to count vowel\")                             #Asks user to enter sentence\n",
    "num = sent.count('a') + sent.count('e') + sent.count('i') + sent.count('o') + sent.count('u') #Using count function, count each vowel and add\n",
    "print(\"The number of vowels in given sentence is\", num)                                       #Print the total number of vowels"
   ]
  },
  {
   "cell_type": "markdown",
   "id": "0518336c-93e8-4357-b09e-cfe95c2929f3",
   "metadata": {},
   "source": [
    "Question-3 : Given a string, reverse the order of characters using string slicing and print\n",
    "the reversed string."
   ]
  },
  {
   "cell_type": "code",
   "execution_count": 11,
   "id": "6e27e04f-ff50-4641-81a5-c7da879463c9",
   "metadata": {},
   "outputs": [
    {
     "name": "stdin",
     "output_type": "stream",
     "text": [
      "Enter any string pwskills\n"
     ]
    },
    {
     "name": "stdout",
     "output_type": "stream",
     "text": [
      "The reverse of entered string is sllikswp\n"
     ]
    }
   ],
   "source": [
    "rev_string = input(\"Enter any string\")                     #Asks user to enter any string\n",
    "print(\"The reverse of entered string is\",rev_string[::-1]) #Print reversed string done using slicing concept.We take whole string and give the jump parameter as -1"
   ]
  },
  {
   "cell_type": "markdown",
   "id": "3e3e5ea6-5df3-420e-a2b7-8427893357db",
   "metadata": {},
   "source": [
    "Question-4 : Write a program that takes a string as input and checks if it is a palindrome\n",
    "(reads the same forwards and backwards)."
   ]
  },
  {
   "cell_type": "code",
   "execution_count": 12,
   "id": "5e0f5609-13b1-4d4a-8eb4-2cae3573b6d8",
   "metadata": {},
   "outputs": [
    {
     "name": "stdin",
     "output_type": "stream",
     "text": [
      "Enter any string racecar\n"
     ]
    },
    {
     "name": "stdout",
     "output_type": "stream",
     "text": [
      "yes, it is palindrome\n"
     ]
    }
   ],
   "source": [
    "pal_string = input(\"Enter any string\")  #Asks user to input any string\n",
    "string_rev = pal_string[::-1]           #find reverse of string\n",
    "if string_rev == pal_string:            #Check whether reverse string is same as  entered string\n",
    "    print(\"yes, it is palindrome\")      #Print yes if palindrome string\n",
    "else:\n",
    "    print(\"No, it is not palindrome\")   #Print no if not palindrome string"
   ]
  },
  {
   "cell_type": "markdown",
   "id": "80abcddc-333f-4448-aec1-1bb62cc123fc",
   "metadata": {},
   "source": [
    "Question-5: Create a program that takes a string as input and removes all the spaces from\n",
    "it. Print the modified string without spaces."
   ]
  },
  {
   "cell_type": "code",
   "execution_count": 13,
   "id": "64eda010-c8b7-4a33-842b-0e3bffb8cbdc",
   "metadata": {},
   "outputs": [
    {
     "name": "stdin",
     "output_type": "stream",
     "text": [
      "Enter any string      I joined    PW FSDS    \n"
     ]
    },
    {
     "name": "stdout",
     "output_type": "stream",
     "text": [
      "The modified string is IjoinedPWFSDS\n"
     ]
    }
   ],
   "source": [
    "any_string = input(\"Enter any string\")      #Ask user to enter any string\n",
    "mod_string = any_string.replace(\" \",\"\")     #Replace spaces with no space\n",
    "print(\"The modified string is\", mod_string) #print modified string"
   ]
  }
 ],
 "metadata": {
  "kernelspec": {
   "display_name": "Python 3 (ipykernel)",
   "language": "python",
   "name": "python3"
  },
  "language_info": {
   "codemirror_mode": {
    "name": "ipython",
    "version": 3
   },
   "file_extension": ".py",
   "mimetype": "text/x-python",
   "name": "python",
   "nbconvert_exporter": "python",
   "pygments_lexer": "ipython3",
   "version": "3.10.8"
  }
 },
 "nbformat": 4,
 "nbformat_minor": 5
}
